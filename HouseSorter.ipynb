{
 "cells": [
  {
   "cell_type": "code",
   "execution_count": 1,
   "metadata": {},
   "outputs": [],
   "source": [
    "houses = ['Ursaia', 'Nocturna', 'Ianthe', 'Triton', 'Ankaa', 'Saren']"
   ]
  },
  {
   "cell_type": "code",
   "execution_count": 27,
   "metadata": {},
   "outputs": [],
   "source": [
    "import argparse\n",
    "\n",
    "parser = argparse.ArgumentParser(description='Sort freshmen by house.')\n",
    "parser.add_argument('file_input', metavar='filename.csv', nargs='?',\n",
    "                    help='csv file as input')\n",
    "parser.add_argument('file_output', metavar='filename2.csv', nargs='?',\n",
    "                    help='csv file for output')\n",
    "parser.add_argument('-g', metavar='min max', type=float, nargs=2,\n",
    "                    default=[0.45,0.55],\n",
    "                    help='acceptable gender coefficient')\n",
    "parser.add_argument('-s', metavar='distribution niche', type=float, nargs=2,\n",
    "                    default=[0.2,0.8],\n",
    "                    help='acceptable school coefficient for distributing students' +\n",
    "                    'from the same school and congregating students from niche schools')\n",
    "parser.add_argument('-m', metavar='distribution niche', type=float, nargs=2,\n",
    "                    default=[0.2,1],\n",
    "                    help='acceptable major coefficient for distributing students' +\n",
    "                    'from the same major and congregating students from niche major')\n",
    "args = parser.parse_args([\"test.csv\", \"test2.csv\"])\n"
   ]
  },
  {
   "cell_type": "code",
   "execution_count": 28,
   "metadata": {},
   "outputs": [
    {
     "data": {
      "text/plain": [
       "[0.45, 0.55]"
      ]
     },
     "execution_count": 28,
     "metadata": {},
     "output_type": "execute_result"
    }
   ],
   "source": [
    "args.g"
   ]
  },
  {
   "cell_type": "code",
   "execution_count": 34,
   "metadata": {
    "scrolled": true
   },
   "outputs": [
    {
     "data": {
      "text/html": [
       "<div>\n",
       "<style scoped>\n",
       "    .dataframe tbody tr th:only-of-type {\n",
       "        vertical-align: middle;\n",
       "    }\n",
       "\n",
       "    .dataframe tbody tr th {\n",
       "        vertical-align: top;\n",
       "    }\n",
       "\n",
       "    .dataframe thead th {\n",
       "        text-align: right;\n",
       "    }\n",
       "</style>\n",
       "<table border=\"1\" class=\"dataframe\">\n",
       "  <thead>\n",
       "    <tr style=\"text-align: right;\">\n",
       "      <th></th>\n",
       "      <th>Name</th>\n",
       "      <th>Gender</th>\n",
       "      <th>School</th>\n",
       "      <th>Faculty</th>\n",
       "      <th>Major</th>\n",
       "      <th>Hash</th>\n",
       "    </tr>\n",
       "  </thead>\n",
       "  <tbody>\n",
       "    <tr>\n",
       "      <td>0</td>\n",
       "      <td>Aaron Ang</td>\n",
       "      <td>Male</td>\n",
       "      <td>X Junior College</td>\n",
       "      <td>FASS</td>\n",
       "      <td>History</td>\n",
       "      <td>-6807617759213465722</td>\n",
       "    </tr>\n",
       "    <tr>\n",
       "      <td>1</td>\n",
       "      <td>Betty Bee</td>\n",
       "      <td>Female</td>\n",
       "      <td>X Junior College</td>\n",
       "      <td>FASS</td>\n",
       "      <td>History</td>\n",
       "      <td>-8961618534386070511</td>\n",
       "    </tr>\n",
       "    <tr>\n",
       "      <td>2</td>\n",
       "      <td>Charlie Chan</td>\n",
       "      <td>Male</td>\n",
       "      <td>Y Junior College</td>\n",
       "      <td>SoC</td>\n",
       "      <td>Computer Science</td>\n",
       "      <td>1323644136141252206</td>\n",
       "    </tr>\n",
       "    <tr>\n",
       "      <td>3</td>\n",
       "      <td>Dolly Deng</td>\n",
       "      <td>Female</td>\n",
       "      <td>X Junior College</td>\n",
       "      <td>SoC</td>\n",
       "      <td>History</td>\n",
       "      <td>6682250105334220587</td>\n",
       "    </tr>\n",
       "  </tbody>\n",
       "</table>\n",
       "</div>"
      ],
      "text/plain": [
       "           Name  Gender            School Faculty             Major  \\\n",
       "0     Aaron Ang    Male  X Junior College    FASS           History   \n",
       "1     Betty Bee  Female  X Junior College    FASS           History   \n",
       "2  Charlie Chan    Male  Y Junior College     SoC  Computer Science   \n",
       "3    Dolly Deng  Female  X Junior College     SoC           History   \n",
       "\n",
       "                  Hash  \n",
       "0 -6807617759213465722  \n",
       "1 -8961618534386070511  \n",
       "2  1323644136141252206  \n",
       "3  6682250105334220587  "
      ]
     },
     "execution_count": 34,
     "metadata": {},
     "output_type": "execute_result"
    }
   ],
   "source": [
    "import pandas\n",
    "# Read CSV\n",
    "\n",
    "df = pandas.read_csv(args.file_input)\n",
    "df['Hash'] = [hash(i) for i in df['Name']]\n",
    "df.sort_values(by=['Hash'])\n",
    "df"
   ]
  },
  {
   "cell_type": "code",
   "execution_count": 35,
   "metadata": {},
   "outputs": [
    {
     "name": "stdout",
     "output_type": "stream",
     "text": [
      "{'X Junior College': 0.8, 'Y Junior College': -0.4000000000000001}\n",
      "{'History': 1.0, 'Computer Science': -0.6000000000000001}\n"
     ]
    }
   ],
   "source": [
    "import collections\n",
    "\n",
    "schools = collections.Counter(df['School'])\n",
    "maximum = max(schools, key=schools.get)\n",
    "school_coeffs = {key:(schools[key]-2)/(schools[maximum]-2)*(args.s[1]-args.s[0])+args.s[0] for key in schools}\n",
    "print(school_coeffs)\n",
    "\n",
    "majors = collections.Counter(df['Major'])\n",
    "maximum = max(majors, key=majors.get)\n",
    "major_coeffs = {key:(majors[key]-2)/(majors[maximum]-2)*(args.m[1]-args.m[0])+args.m[0] for key in majors}\n",
    "print(major_coeffs)"
   ]
  },
  {
   "cell_type": "code",
   "execution_count": 44,
   "metadata": {},
   "outputs": [
    {
     "name": "stdout",
     "output_type": "stream",
     "text": [
      "X Junior College\n",
      "X Junior College\n",
      "Y Junior College\n",
      "X Junior College\n"
     ]
    }
   ],
   "source": [
    "for i in df.itertuples():\n",
    "    print(i[3])"
   ]
  },
  {
   "cell_type": "code",
   "execution_count": 56,
   "metadata": {},
   "outputs": [
    {
     "name": "stdout",
     "output_type": "stream",
     "text": [
      "[{-6807617759213465722: 0.6599999999999999, -8961618534386070511: 0.6599999999999999, 1323644136141252206: 0.5, 6682250105334220587: 0.6599999999999999}, {-6807617759213465722: 0.6599999999999999, -8961618534386070511: 0.6599999999999999, 1323644136141252206: 0.5, 6682250105334220587: 0.6599999999999999}, {-6807617759213465722: 0.5, -8961618534386070511: 0.5, 1323644136141252206: 2.5000000000000004, 6682250105334220587: 0.5}, {-6807617759213465722: 0.6599999999999999, -8961618534386070511: 0.6599999999999999, 1323644136141252206: 0.5, 6682250105334220587: 0.6599999999999999}]\n"
     ]
    }
   ],
   "source": [
    "# Populate adjacency list\n",
    "\n",
    "adjList = []\n",
    "for i in df.itertuples():\n",
    "    row = {}\n",
    "    for j in df.itertuples():\n",
    "        magnitude = (school_coeffs[i[3]] - 0.5 if i[3] == j[3] else 0) + (major_coeffs[i[5]] - 0.5 if i[5] == j[5] else 0)\n",
    "        direction = (min(school_coeffs[i[3]], 1 - school_coeffs[i[3]]) if i[3] == j[3] else 0) + (min(major_coeffs[i[5]], 1 - major_coeffs[i[5]]) if i[5] == j[5] else 0)\n",
    "        row[j[6]] = 0.5 + magnitude*direction\n",
    "    adjList.append(row)\n",
    "    \n",
    "print(adjList)"
   ]
  },
  {
   "cell_type": "code",
   "execution_count": null,
   "metadata": {},
   "outputs": [],
   "source": [
    "# Populate function with arguments\n",
    "# Major Faculty JC"
   ]
  },
  {
   "cell_type": "code",
   "execution_count": null,
   "metadata": {},
   "outputs": [],
   "source": [
    "# Colouring Algorithm"
   ]
  },
  {
   "cell_type": "code",
   "execution_count": null,
   "metadata": {},
   "outputs": [],
   "source": [
    "# Output"
   ]
  }
 ],
 "metadata": {
  "kernelspec": {
   "display_name": "Python 3",
   "language": "python",
   "name": "python3"
  },
  "language_info": {
   "codemirror_mode": {
    "name": "ipython",
    "version": 3
   },
   "file_extension": ".py",
   "mimetype": "text/x-python",
   "name": "python",
   "nbconvert_exporter": "python",
   "pygments_lexer": "ipython3",
   "version": "3.7.4"
  }
 },
 "nbformat": 4,
 "nbformat_minor": 2
}
